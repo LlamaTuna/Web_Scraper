{
 "cells": [
  {
   "cell_type": "markdown",
   "id": "30eee809",
   "metadata": {},
   "source": [
    "#1 Thesis: Online media orgatnizations have an overall negative bias. What is commonly called \"click bait\" is delbierate presentation of salacaious, scandalous, and polerizting content to encourage engagment with teh content and thus the media organization. "
   ]
  },
  {
   "cell_type": "code",
   "execution_count": 7,
   "id": "b91e7ac2",
   "metadata": {},
   "outputs": [
    {
     "name": "stdout",
     "output_type": "stream",
     "text": [
      "['San Fran deli owner eviscerates local leaders  in denial  about drug crisis', ' The Five  reacts to new concerns about A I  s impact on education', 'Cartel members are  animals  monsters  and they re destroying America  Derek Maltz', 'Republicans lawmakers discuss effort to unite over House speaker pick', 'Shannon Bream  Republicans have a lot to live up to', 'Andy Harris reveals why he flipped his vote to McCarthy', 'Steve Moore gives economic outlook  reacts to release of December jobs report', 'Byron Donalds flips to support McCarthy   We still have work to do ', 'Cardi B unleashes on inflation  grocery prices under Biden', 'Victoria Spartz says  positive change  in party tone prompted her to vote McCarthy', 'WATCH   th vote for House speaker is underway', 'Pelosi uses battle for next House speaker to feed Democrats  war chest', 'Chicago watchdog finds hundreds of staffers groomed  sexually abused kids', 'Stained mattress  other furniture pulled from house where Idaho students died', 'Army hockey player recovering after horrific neck injury on the ice', 'San Fran deli owner eviscerates local leaders  in denial  about drug crisis', ' The Five  reacts to new concerns about A I  s impact on education', 'Cartel members are  animals  monsters  and they re destroying America  Derek Maltz', 'Republicans lawmakers discuss effort to unite over House speaker pick', 'Shannon Bream  Republicans have a lot to live up to', 'Andy Harris reveals why he flipped his vote to McCarthy', 'Steve Moore gives economic outlook  reacts to release of December jobs report', 'Byron Donalds flips to support McCarthy   We still have work to do ', 'Cardi B unleashes on inflation  grocery prices under Biden', 'Victoria Spartz says  positive change  in party tone prompted her to vote McCarthy', ' OH  FOR CHRIST S SAKE  CNN hot mic catches audible groan during McCarthy remarks', 'NOT A JOKE  Biden mocked for  embarrassing  gaffe during speech about Capitol riot', '  YEAR OLD ARRESTED Police take child into custody for intentionally shooting teacher', 'OVERNIGHT SENSATION Viral  Peach Bowl Girl  with  heartbreaker eyes  vows to use sudden fame for good', ' JUST WANT RULES FOLLOWED  Bengals coach not happy with location proposal for potential wild card game', 'Ashli Babbitt s mother arrested during Jan    protest', 'Gaetz  Boebert say GOP s House speaker divide was  never about Kevin McCarthy   but the American people', 'Todd Chrisley says he will do a  no holds bar  interview with son before prison sentence', 'Woman miscarries after allegedly being shot by father of her child', 'Break in suspects  terrorized  elderly woman with clown masks  sledgehammer  authorities say', 'TSA says passenger attempted to bring  emotional support  boa constrictor snake through security', 'Crime ridden city deploying more officers to violent areas   We need more cops   resident says', 'Victoria s Secret CEO exits as  woke  controversies strip once beloved brand', 'Republican colleague accuses Gaetz of  dragging  out speaker battle for money', 'Documents reveal gruesome details about how college students were slain', 'Popular retail chain releases full list of store closures across the country', 'Embattled pitcher issues statement after team announces plan to drop him from roster', 'Deli owner calls out inaction on opioid crisis as drug dens take over city', 'Country singer Jessie James Decker gets handsy with former NFL star husband', 'Trans swimmer struggling against male competitors after time on women s team', 'Experts reveal why roommate may not have called     after facing Idaho killer', 'Idaho roommate revelation  changes a lot  in murder case  says Nancy Grace', 'Aaron Rodgers reportedly dating daughter of sports team owner', 'The oldest person in the US dies', 'Meet the American who invented the wireless TV remote control', 'On this day in history  Jan           FDR delivers Four Freedoms speech  steeling Americans for World War II', 'JESSE WATTERS  Cartels have declared war on the Mexican government', 'Political cartoons of the day', 'Four seasons  One world  Epic stories  Coming Sunday  exclusively on Fox Nation ', 'Mexican authorities say    military personnel     cartel members killed in raid to arrest El Chapo s son', 'Democrats  immigrant advocates raise red flags over Biden border plan', 'Bed Bath   Beyond bankruptcy could happen  this month ', 'Debt relief industry sees surge as credit card balances swell', 'Mayorkas defends Biden not visiting border', 'Biden administration unveils defense of student loan forgiveness plan at Supreme Court', '       veterans eat from garbage cans every day  Here s how we can end veteran homelessness', 'I was wrong to criticize Idaho police  Here are   things they did to bring Kohberger to justice', 'Heads up  farmers  Biden is coming for your water', ' IT S A LITTLE LATE   Border residents respond to Biden s first ever border trip  pledge to stiffen policies', ' CORPORATE KINGDOM   DeSantis backed plan to take control of Disney s land announced', ' WORSE THAN IT ALREADY IS   Americans reveal low expectations for Biden in     ', ' OUR GOVERNMENT IS A BUST   Americans weigh in on fight to elect speaker of the House', 'Derailing  America s most dangerous law   Sheriff hopes Illinois Supreme Court upholds SAFE T Act decision', 'Wild innovations coming in      despite downturn in economy', 'Kentucky Gov  Andy Beshear chosen to co chair Appalachian Regional Commission', 'Kamala Harris reveals Biden s      priorities includes inflation  job growth   Never been more optimistic ', ' WORSE THAN IT ALREADY IS   Americans reveal low expectations for Biden in     ', 'Return to office for NM state workers pushed to Feb   ', 'San Francisco deli owner calls out inaction on opioid crisis as drug dens take over city', 'JESSE WATTERS  Cartels started a war with the Mexican government right in our backyard', 'Freedom Caucus chair Perry defends changing McCarthy vote  says speakership  accountability  key', 'Idaho murders  Roommate revelation  changes a lot  in murder case  Nancy Grace says', 'Florida Gov  DeSantis praised for probing CRT  DEI university funds  They don t get to  indoctrinate  our kids', 'SEAN HANNITY  McCarthy now on the verge of becoming the next Speaker of the House', 'Nancy Pelosi cashes in on messy GOP House speaker fight', 'Wisconsin Republican blasts Gaetz for  dragging  speaker fight out for  fundraising ', 'The Hitchhiker s Guide to what s going to go down tonight with the speaker s election', 'Embattled Rep  elect Santos refuses to answer questions about resume lies while promising to support McCarthy', 'Homeland Security develops new portable gunshot detection system', 'Jan    committee releases Social Security numbers of Trump officials and allies  report', 'Swalwell  Democrats fear Republican will shoot up Congress   We could have a workplace violent event ', 'Heads up  farmers  Biden is coming for your water', 'On this day in history  Jan           FDR delivers Four Freedoms speech  steeling Americans for World War II', 'Israeli ambassador slams UN for meeting over visit to Temple Mount', 'Mexican authorities say    military personnel     cartel members killed in raid to arrest El Chapo s son', 'Greeks celebrate Epiphany with blessings of the water after   years of COVID restrictions', 'Building collapse in northern Iraqi city killing    injures  ', 'Chad s government foils attempt to destabilize country  undermine the constitution', '       veterans eat from garbage cans every day  Here s how we can end veteran homelessness', 'Let s appreciate Congressional history as Republican standoff continues in the House', 'I was wrong to criticize Idaho police  Here are   things they did to bring Kohberger to justice', 'A new nuclear villain  a Republican reboot  and more from Fox News Opinion', 'We re not the Florida they put on postcards  but school choice works for us too', 'FDA accelerates approval for Alzheimer s drug', 'Stronger limits proposed to control deadly soot pollution in the US', 'As COVID ravages China  US expands testing system for incoming travelers', 'Healthy aging and drinking water  Fascinating findings from a new study', 'China defends its COVID handling after WHO  Biden say Beijing is under reporting deaths', 'Ashli Babbitt s mother arrested by Capitol Police during Jan    protest', 'Philadelphia deploying more officers to violent areas   We need more cops   resident says', 'Chicago man allegedly shoots pregnant mother of own   year old child  resulting in a miscarriage', 'Idaho murders  Mattress  other furniture  removed from house where four college students were killed', 'Florida suspects  terrorized  elderly woman with clown masks  sledgehammer  authorities', 'The first GMC Hummer EV SUV could raise millions for charity', 'Connecticut community rallies together after Christmas food donations stolen  It s like a  Hallmark movie ', 'Dickens   Christmas Carol  could help Americans revitalize our spirit', 'Holiday gifts for last minute Christmas shopping  These are all American made', 'Feeding America CEO asks community to help others amid today s high inflation', 'Ron DeSantis activates National Guard amid migrant surge in Florida Keys', '       veterans eat from garbage cans every day  Here s how we can end veteran homelessness', 'White House hopeful war with China over Taiwan  never comes to pass   report', 'On this day in history  Jan           FDR delivers Four Freedoms speech  steeling Americans for World War II', 'Scam targeting new Army troops costs soldiers thousands  service warns', 'Todd Chrisley says he will do a  no holds bar  interview with son Chase before prison sentence', 'Allison Holker shares emotional tribute to late husband Stephen  tWitch  Boss   We will forever remember you ', 'Jen Shah  Teresa Giudice s lawyer reveals her  biggest challenge  after sentencing  gives reality star advice', 'Jessie James Decker lifts up former NFL star husband Eric Decker in PDA filled video   I like big boys ', 'Sarah Michelle Gellar reflects on time on  Buffy the Vampire Slayer    Very proud of the show we created ', 'Army hockey player recovering after severe neck injury from skate', 'Recently DFA ed Trevor Bauer says Dodgers  wanted  him to return and  pitch for the team this year ', 'Dodgers say Trevor Bauer will  no longer be part  of organization following lengthy suspension', 'NBA champ Tristan Thompson s mother dies suddenly after heart attack', 'Bengals  Zac Taylor not a fan of NFL s coin toss solution   We just want the rules to be followed ', 'Philadelphia deploying more officers to violent areas   We need more cops   resident says', 'Chicago man allegedly shoots pregnant mother of own   year old child  resulting in a miscarriage', 'TSA says passenger attempted to bring  emotional support  boa constrictor snake through security', 'Exclusive  CISA s Jen Easterly wants to protect US hospitals following spate of ransomware attacks', 'Chicago schools watchdog finds hundreds of employees groomed  sexually assaulted students', 'Iowa s Bessie Hendricks  the oldest person in the US  dies at    ', 'Rod Stewart says  farewell  to late brother Bob after losing eldest sibling Don   Two of my best mates gone ', 'Anne Heche s son Homer Laffoon thanks fans for  love  care and support  amid late star s memoir release', 'Reddit user asks if she was wrong to wear  colossally large  engagement ring to a relative s engagement party', 'Kids left alone with baby monitor  There s  no point  in sitters  one mom says  but experts sound the alarm', 'Debt relief industry sees surge as credit card balances swell', 'More Americans turning to credit cards to cover basic expenses as inflation rages', 'Job growth and wages slip in December but remain above Fed target', 'Today s best mortgage deal  Steady    year rates are the lowest available at        Jan         ', 'Biden administration unveils defense of student loan forgiveness plan at Supreme Court', 'Do these revealing photos of your home belong here without permission ', 'Wild innovations coming in      despite downturn in economy', 'Homeland Security develops new portable gunshot detection system', 'How to quickly edit a video on your phone', 'Why your kitchen could be the smartest room in the house this year', 'Victoria s Secret CEO Amy Hauk exits amid  woke  controversies', 'FDA approves Biogen  Eisai Alzheimer s drug', 'McDonald s mulling corporate job cuts', 'Debt relief industry sees surge as credit card balances swell', 'Larry Kudlow  The new GOP House has a lot of work to do', 'Iowa s Bessie Hendricks  the oldest person in the US  dies at    ', 'Reddit user asks if she was wrong to wear  colossally large  engagement ring to a relative s engagement party', 'Kids left alone with baby monitor  There s  no point  in sitters  one mom says  but experts sound the alarm', 'A new conservative counterculture is growing  I call it the  Quiet Right ', 'Pope Benedict XVI laid to rest under St  Peter s Basilica in private ceremony', 'Shock  The electric Ram      Revolution pickup has       rows of seats ', 'Wild innovations coming in      despite downturn in economy', 'It s no yoke  Tesla brings back round steering wheels', 'The Dodge Challenger is America s best selling sports car     again', 'California Tesla driver accused of intentionally plunging wife  kids off cliff is doctor in  idyllic family ', 'TSA says passenger attempted to bring  emotional support  boa constrictor snake through security', 'Glacier National Park  Exploring the world s first international peace park', 'St  Louis man pleads guilty to charges over role in deadly Illinois bank robbery', ' CORPORATE KINGDOM   DeSantis backed plan to take control of Disney s land announced', '   year old Australian boy remains in coma following helicopter crash that killed  ', 'Jessie James Decker lifts up former NFL star husband Eric Decker in PDA filled video   I like big boys ', 'Shania Twain calls performing with Harry Styles at Coachella  a full circle moment ', 'Rod Stewart says  farewell  to late brother Bob after losing eldest sibling Don   Two of my best mates gone ', 'Machine Gun Kelly  Kenny Chesney  Luke Bryan and more all part of      RodeoHouston lineup', 'Dolly Parton quiz  How well do you know these facts about the music icon ', 'National Spaghetti Day  A look at the history of the dish', 'KFC for Christmas  How the fast food chain became a holiday hit in Japan', ' Weekend brisket  for Hanukkah  Try the recipe', '  safety tips for deep frying a Thanksgiving turkey', 'Air fryer turkey dinner for    Try the recipe', 'Parade of storms will pound California through next week following deadly bomb cyclone', 'Will California s long term drought improve after atmospheric rivers hammer the West ', 'Deadly bomb cyclone washes away popular California beach', 'How to watch Hawaii s Kilauea volcano eruption', ' It was tense   Mother moose rescued from frozen lake after being stuck for hours as calf stood by', 'Injured snowmobiler in Utah hoisted to safety after accident on remote peak', 'Michigan UPS worker  born a preemie herself  makes warming blankets for other babies born prematurely', 'Tennessee National Guard rescues stranded Appalachian Trail hikers', 'In the face of crime and danger  Americans stepped up to help complete strangers in        People are amazing ', 'Tony Robbins  in a New Year  discusses smart and savvy self improvement tips for     ', 'Special Report w  Bret Baier   Friday  January  ', 'The Story w  Martha MacCallum   Friday  January  ', 'Fox News   Night   Thursday  January  ', 'Gutfeld    Thursday  January  ', 'The Ingraham Angle   Thursday  January  ', 'Kentucky Gov  Andy Beshear chosen to co chair Appalachian Regional Commission', 'Greeks celebrate Epiphany with blessings of the water after   years of COVID restrictions', 'Biden signs bills to improve water access for   Arizona tribes', 'New Jersey beach town sues state for     million over dune issue', 'Annual report says Maine s child welfare system needs improvements']\n"
     ]
    }
   ],
   "source": [
    "# Python program to print all heading tags\n",
    "import pickle\n",
    "from IPython import display\n",
    "import math\n",
    "from pprint import pprint\n",
    "import requests\n",
    "import nltk\n",
    "from bs4 import BeautifulSoup\n",
    "import numpy as np \n",
    "import pandas as pd \n",
    "import seaborn as sns\n",
    "import matplotlib.pyplot as plt\n",
    "import random\n",
    "from wordcloud import WordCloud\n",
    "import os\n",
    "import spacy\n",
    "from textblob import TextBlob\n",
    "from pattern.en import sentiment\n",
    "import urllib3 \n",
    "import re\n",
    "import datetime\n",
    "from nltk.sentiment.vader import SentimentIntensityAnalyzer as SIA\n",
    "nlp = spacy.load('en_core_web_sm')\n",
    "%matplotlib inline\n",
    "sns.set(style='darkgrid', context='talk', palette='Dark2')\n",
    "\n",
    "cleanData = []\n",
    "tag_words =[]\n",
    "\n",
    "utc_datetime = datetime.datetime.utcnow()\n",
    "formated_string = utc_datetime.strftime(\"%Y-%m-%d-%H%MZ\")\n",
    "filename = 'Scraped_%s.txt'% formated_string\n",
    "\n",
    "\n",
    "# scrape a chosen URL\n",
    "url_link = 'https://www.foxnews.com/'\n",
    "request = requests.get(url_link)\n",
    "Soup = BeautifulSoup(request.text, 'lxml') #create soup obejct\n",
    "    \n",
    "\n",
    "# creating a list by type of heading tags\n",
    "heading_tags = [\"h2\"] #the user will have to determine what \"h\" tags are valid for given URL\n",
    "for tags in Soup.find_all(heading_tags):\n",
    "    tag_words.append(tags.text.strip())\n",
    "# #     \n",
    "#     list2 = [x.replace('\\n', ' ') for x in tag_words] # split the strings by line remove, end line\n",
    "#     list3 = [strg.lower() for strg in list2] #make all lower case\n",
    "# print(tag_words)\n",
    "# print(list3)\n",
    "\n",
    "# with open(filename,'w') as h_file: #if you want to save a text copy to avoid utf-8 error message\n",
    "#     h_file.write('\\n'.join(list3))\n",
    "    \n",
    "\n",
    "    \n",
    "regex = re.compile('[^a-zA-Z]')\n",
    "for i in tag_words: #slice based on data you want to include. Some junk data can be removed\n",
    "    if len(i)>18:#Fliter a composite length of strings list3\n",
    "        cleanData.append(regex.sub(' ', i))\n",
    "print(cleanData)\n",
    "\n",
    "# with open(filename, \"wb\") as fp:   #Pickling\n",
    "#     pickle.dump(cleanData, fp)\n"
   ]
  },
  {
   "cell_type": "code",
   "execution_count": null,
   "id": "4aa9d923",
   "metadata": {},
   "outputs": [],
   "source": [
    "with open(\"Scraped_2023-01-06-0631Z.txt\", \"rb\") as fp:   # Unpickling\n",
    "    saved_text = pickle.load(fp)\n",
    "\n",
    "saved_text"
   ]
  },
  {
   "cell_type": "code",
   "execution_count": null,
   "id": "09041996",
   "metadata": {
    "scrolled": true
   },
   "outputs": [],
   "source": [
    "from nltk.corpus import stopwords\n",
    "from nltk.tokenize import word_tokenize\n",
    "\n",
    "stop_words = set(stopwords.words('english'))\n",
    "\n",
    "# converts the words in word_tokens to lower case and then checks whether\n",
    "#they are present in stop_words or not\n",
    "filtered_sentence = [w for w in cleanData if not w in stop_words]\n",
    "#with no lower case conversion\n",
    "\n",
    "filtered_sentence = []\n",
    " \n",
    "for w in cleanData:\n",
    "    if w not in stop_words:\n",
    "        filtered_sentence.append(w)\n",
    "# new_list=[x for x in filtered_sentence if len(x)<=16]\n",
    "\n",
    "\n",
    "filtered_sentence"
   ]
  },
  {
   "cell_type": "code",
   "execution_count": 1,
   "id": "18a57ee4",
   "metadata": {},
   "outputs": [
    {
     "ename": "NameError",
     "evalue": "name 'saved_text' is not defined",
     "output_type": "error",
     "traceback": [
      "\u001b[0;31m---------------------------------------------------------------------------\u001b[0m",
      "\u001b[0;31mNameError\u001b[0m                                 Traceback (most recent call last)",
      "Input \u001b[0;32mIn [1]\u001b[0m, in \u001b[0;36m<cell line: 6>\u001b[0;34m()\u001b[0m\n\u001b[1;32m      3\u001b[0m sia \u001b[38;5;241m=\u001b[39m SIA()\n\u001b[1;32m      4\u001b[0m results \u001b[38;5;241m=\u001b[39m []\n\u001b[0;32m----> 6\u001b[0m \u001b[38;5;28;01mfor\u001b[39;00m line \u001b[38;5;129;01min\u001b[39;00m \u001b[43msaved_text\u001b[49m:\n\u001b[1;32m      7\u001b[0m     pol_score \u001b[38;5;241m=\u001b[39m sia\u001b[38;5;241m.\u001b[39mpolarity_scores(line)\n\u001b[1;32m      8\u001b[0m     pol_score[\u001b[38;5;124m'\u001b[39m\u001b[38;5;124mheadline\u001b[39m\u001b[38;5;124m'\u001b[39m] \u001b[38;5;241m=\u001b[39m line\n",
      "\u001b[0;31mNameError\u001b[0m: name 'saved_text' is not defined"
     ]
    }
   ],
   "source": [
    "from nltk.sentiment.vader import SentimentIntensityAnalyzer as SIA\n",
    "\n",
    "sia = SIA()\n",
    "results = []\n",
    "\n",
    "for line in saved_text:\n",
    "    pol_score = sia.polarity_scores(line)\n",
    "    pol_score['headline'] = line\n",
    "    results.append(pol_score)\n",
    "\n",
    "pprint(results, width=100)"
   ]
  },
  {
   "cell_type": "code",
   "execution_count": 2,
   "id": "07e482cc",
   "metadata": {},
   "outputs": [
    {
     "ename": "NameError",
     "evalue": "name 'cleanData' is not defined",
     "output_type": "error",
     "traceback": [
      "\u001b[0;31m---------------------------------------------------------------------------\u001b[0m",
      "\u001b[0;31mNameError\u001b[0m                                 Traceback (most recent call last)",
      "Input \u001b[0;32mIn [2]\u001b[0m, in \u001b[0;36m<cell line: 1>\u001b[0;34m()\u001b[0m\n\u001b[0;32m----> 1\u001b[0m \u001b[38;5;28;01mfor\u001b[39;00m sentence \u001b[38;5;129;01min\u001b[39;00m \u001b[43mcleanData\u001b[49m:\n\u001b[1;32m      2\u001b[0m     \u001b[38;5;28mprint\u001b[39m(sentence)\n\u001b[1;32m      3\u001b[0m     ss \u001b[38;5;241m=\u001b[39m sia\u001b[38;5;241m.\u001b[39mpolarity_scores(sentence)\n",
      "\u001b[0;31mNameError\u001b[0m: name 'cleanData' is not defined"
     ]
    }
   ],
   "source": [
    ">>> for sentence in cleanData:\n",
    "...     print(sentence)\n",
    "...     ss = sia.polarity_scores(sentence)\n",
    "...     for k in sorted(ss):\n",
    "...         print('{0}: {1}, '.format(k, ss[k]), end='')\n",
    "...     print()"
   ]
  },
  {
   "cell_type": "code",
   "execution_count": null,
   "id": "b8cd6956",
   "metadata": {},
   "outputs": [],
   "source": [
    "df = pd.DataFrame.from_records(results)\n",
    "df"
   ]
  },
  {
   "cell_type": "code",
   "execution_count": null,
   "id": "4a53ec47",
   "metadata": {},
   "outputs": [],
   "source": [
    "df['label'] = 0\n",
    "df.loc[df['compound'] > 0.2, 'label'] = 1\n",
    "df.loc[df['compound'] < -0.2, 'label'] = -1\n",
    "df"
   ]
  },
  {
   "cell_type": "code",
   "execution_count": null,
   "id": "993d3f0c",
   "metadata": {},
   "outputs": [],
   "source": [
    "df2 = df[['headline', 'label']]\n",
    "df2.to_csv('news_headlines_labels.csv', mode='a', encoding='utf-8', index=False)"
   ]
  },
  {
   "cell_type": "code",
   "execution_count": null,
   "id": "6f0d2336",
   "metadata": {},
   "outputs": [],
   "source": [
    "print(\"Positive headlines:\\n\")\n",
    "pprint(list(df[df['label'] == 1].headline)[:5], width=200)\n",
    "\n",
    "print(\"\\nNegative headlines:\\n\")\n",
    "pprint(list(df[df['label'] == -1].headline)[:5], width=200)"
   ]
  },
  {
   "cell_type": "code",
   "execution_count": null,
   "id": "272c31c9",
   "metadata": {},
   "outputs": [],
   "source": [
    "print(df.label.value_counts())\n",
    "\n",
    "print(df.label.value_counts(normalize=True) * 100)"
   ]
  },
  {
   "cell_type": "code",
   "execution_count": null,
   "id": "eb7ec74d",
   "metadata": {},
   "outputs": [],
   "source": [
    "fig, ax = plt.subplots(figsize=(8, 8))\n",
    "\n",
    "counts = df.label.value_counts(normalize=True) * 100\n",
    "\n",
    "sns.barplot(x=counts.index, y=counts, ax=ax)\n",
    "\n",
    "ax.set_xticklabels(['Negative', 'Neutral', 'Positive'])\n",
    "ax.set_ylabel(\"Percentage\")\n",
    "\n",
    "plt.show()"
   ]
  },
  {
   "cell_type": "code",
   "execution_count": null,
   "id": "d6b05373",
   "metadata": {},
   "outputs": [],
   "source": [
    "stop_words"
   ]
  },
  {
   "cell_type": "code",
   "execution_count": null,
   "id": "754ec5df",
   "metadata": {},
   "outputs": [],
   "source": [
    "new_list"
   ]
  },
  {
   "cell_type": "code",
   "execution_count": null,
   "id": "42aa8a5b",
   "metadata": {},
   "outputs": [],
   "source": [
    "Xpath_title = '/html/body/div[3]/div/div[2]/div[1]/main/div/div/div[2]'\n",
    "\n",
    "from lxml.html import fromstring, tostring\n",
    "\n",
    "tree = fromstring(html_response)\n",
    "\n",
    "print(tree.xpath(Xpath_title)[0].text())\n"
   ]
  },
  {
   "cell_type": "code",
   "execution_count": null,
   "id": "0cd9bac6",
   "metadata": {},
   "outputs": [],
   "source": []
  }
 ],
 "metadata": {
  "kernelspec": {
   "display_name": "Python 3 (ipykernel)",
   "language": "python",
   "name": "python3"
  },
  "language_info": {
   "codemirror_mode": {
    "name": "ipython",
    "version": 3
   },
   "file_extension": ".py",
   "mimetype": "text/x-python",
   "name": "python",
   "nbconvert_exporter": "python",
   "pygments_lexer": "ipython3",
   "version": "3.9.12"
  }
 },
 "nbformat": 4,
 "nbformat_minor": 5
}
